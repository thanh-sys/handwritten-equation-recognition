{
 "cells": [
  {
   "cell_type": "markdown",
   "id": "f977281d",
   "metadata": {},
   "source": [
    "# LGMVIP - Data Science Intern, April-2022\n",
    "\n",
    "## AUTHOR Name :- Sachinkumar Ganesh Navgale\n",
    "\n",
    "## TASK 9 (Advanced Level Task) Handwritten equation solver using CNN \n",
    "\n",
    "Mathematical equation solver using character and symbol recognition using image processing and CNN.\n",
    "\n",
    "#### Dataset link : https://www.kaggle.com/xainano/handwrittenmathsymbols\n",
    "\n",
    "## Importing Libraries"
   ]
  },
  {
   "cell_type": "code",
   "execution_count": null,
   "id": "2ab2a282",
   "metadata": {},
   "outputs": [],
   "source": [
    "import numpy as np\n",
    "import cv2\n",
    "from PIL import Image\n",
    "from matplotlib import pyplot as plt\n",
    "%matplotlib inline\n",
    "import os\n",
    "from os import listdir\n",
    "from os.path import isfile, join\n",
    "import pandas as pd\n",
    "from sklearn.utils import shuffle"
   ]
  },
  {
   "cell_type": "code",
   "execution_count": null,
   "id": "16ee99eb",
   "metadata": {},
   "outputs": [],
   "source": [
    "# def load_images_from_folder(folder):\n",
    "#     train_data=[]\n",
    "#     for filename in os.listdir(folder):\n",
    "#         img = cv2.imread(os.path.join(folder,filename),cv2.IMREAD_GRAYSCALE)\n",
    "#         img=~img        \n",
    "#         if img is not None:\n",
    "#             ret,thresh=cv2.threshold(img,127,255,cv2.THRESH_BINARY)\n",
    "\n",
    "#             ctrs,ret=cv2.findContours(thresh,cv2.RETR_EXTERNAL,cv2.CHAIN_APPROX_NONE)#DUNG THU CHAIN_APPROX_SIMPLE\n",
    "#             cnt=sorted(ctrs, key=lambda ctr: cv2.boundingRect(ctr)[0])\n",
    "#             w=int(45)\n",
    "#             h=int(45)\n",
    "#             maxi=0\n",
    "#             for c in cnt:\n",
    "#                 x,y,w,h=cv2.boundingRect(c)\n",
    "#                 maxi=max(w*h,maxi)\n",
    "#                 if maxi==w*h:\n",
    "#                     x_max=x\n",
    "#                     y_max=y\n",
    "#                     w_max=w\n",
    "#                     h_max=h\n",
    "#             im_crop= thresh[y_max:y_max+h_max+10, x_max:x_max+w_max+10]\n",
    "#             im_resize = cv2.resize(im_crop,(45,45))\n",
    "#             im_resize=np.reshape(im_resize,(45,45,1))\n",
    "#             train_data.append(im_resize)\n",
    "#     return train_data\n",
    "def augment_minus_image(img):\n",
    "    augmented = []\n",
    "\n",
    "    # 1. Ảnh gốc\n",
    "    augmented.append(img)\n",
    "\n",
    "    # 2. Xoay ±5 độ\n",
    "    for angle in [-5, 5]:\n",
    "        (h, w) = img.shape[:2]\n",
    "        M = cv2.getRotationMatrix2D((w // 2, h // 2), angle, 1.0)\n",
    "        rotated = cv2.warpAffine(img, M, (w, h), borderValue=255)\n",
    "        augmented.append(rotated)\n",
    "\n",
    "    # 4. Co chiều ngang (dấu trừ ngắn)\n",
    "    h, w = img.shape\n",
    "    new_w_short = int(w * 0.6)\n",
    "    short = cv2.resize(img, (new_w_short, h), interpolation=cv2.INTER_AREA)\n",
    "    padded_short = np.ones((h, w), dtype=np.uint8) * 255\n",
    "    start_x = (w - new_w_short) // 2\n",
    "    padded_short[:, start_x:start_x+new_w_short] = short\n",
    "    augmented.append(padded_short)\n",
    "\n",
    "    # # 5. Giãn chiều ngang (dấu trừ dài)\n",
    "    # new_w_long = int(w * 1.4)\n",
    "    # long = cv2.resize(img, (new_w_long, h), interpolation=cv2.INTER_CUBIC)\n",
    "    # padded_long = np.ones((h, w), dtype=np.uint8) * 255\n",
    "    # start_x = (w - new_w_long) // 2\n",
    "    # if start_x < 0:  # Nếu vượt quá chiều rộng\n",
    "    #     long = long[:, -start_x:start_x+w]  # Cắt lại cho đúng kích thước\n",
    "    #     padded_long = long\n",
    "    # else:\n",
    "    #     padded_long[:, start_x:start_x+new_w_long] = long\n",
    "    # augmented.append(padded_long)\n",
    "\n",
    "    return augmented\n",
    "\n",
    "\n",
    "\n",
    "def load_images_from_folder(folder,label):\n",
    "    data = []\n",
    "    for filename in os.listdir(folder):\n",
    "        img = cv2.imread(os.path.join(folder,filename),cv2.IMREAD_GRAYSCALE)\n",
    "        img = ~img        \n",
    "        if img is not None:\n",
    "            ret,thresh=cv2.threshold(img,127,255,cv2.THRESH_BINARY)\n",
    "            ctrs,ret=cv2.findContours(thresh,cv2.RETR_EXTERNAL,cv2.CHAIN_APPROX_NONE)\n",
    "            cnt=sorted(ctrs, key=lambda ctr: cv2.boundingRect(ctr)[0])\n",
    "            maxi=0\n",
    "            for c in cnt:\n",
    "                x,y,w,h=cv2.boundingRect(c)\n",
    "                if w*h > maxi:\n",
    "                    maxi = w*h\n",
    "                    x_max,y_max,w_max,h_max = x,y,w,h\n",
    "            im_crop = thresh[y_max:y_max+h_max+10, x_max:x_max+w_max+10]\n",
    "            if label == '10':\n",
    "                aug_imgs = augment_minus_image(im_crop)\n",
    "                for aug in aug_imgs:\n",
    "                    im_resize = cv2.resize(im_crop,(45,45))\n",
    "                    im_resize = np.reshape(im_resize,(45*45))\n",
    "                    data.append(im_resize)\n",
    "            else:\n",
    "                im_resize = cv2.resize(im_crop,(45,45))\n",
    "                im_resize = np.reshape(im_resize,(45*45))\n",
    "                data.append(im_resize)\n",
    "    return data"
   ]
  },
  {
   "cell_type": "code",
   "execution_count": null,
   "id": "e63a311b",
   "metadata": {},
   "outputs": [],
   "source": [
    "# data=[]\n",
    "def load_and_split(folder, label):\n",
    "\n",
    "    data = load_images_from_folder(folder,label)\n",
    "    for i in range(len(data)):\n",
    "        data[i] = np.append(data[i], [label])\n",
    "    data = np.array(data)\n",
    "    split_idx = int(0.8 * len(data))\n",
    "    return data[:split_idx], data[split_idx:]\n",
    "\n",
    "train_data, test_data = [], []"
   ]
  },
  {
   "cell_type": "code",
   "execution_count": null,
   "id": "60f6fa24",
   "metadata": {},
   "outputs": [],
   "source": [
    "for i in range(0, 10):\n",
    "    folder_path = fr\"C:\\Users\\Admin\\Desktop\\dl\\data\\extracted_images\\{i}\"\n",
    "    train, test = load_and_split(folder_path, str(i))  # label vẫn là số nguyên\n",
    "    train_data.append(train)\n",
    "    test_data.append(test)\n"
   ]
  },
  {
   "cell_type": "code",
   "execution_count": null,
   "id": "1992b312",
   "metadata": {},
   "outputs": [],
   "source": [
    "# # Assign '-' = 10\n",
    "# data=load_images_from_folder(r\"C:\\Users\\Admin\\Desktop\\dl\\handwritting_equation\\data\\extracted_images\\-\",'10')\n",
    "# len(data)\n",
    "# for i in range(0,len(data)):\n",
    "#     data[i]=np.append(data[i],['10'])\n",
    "    \n",
    "# print(len(data))\n",
    "\n",
    "train, test = load_and_split(r\"C:\\Users\\Admin\\Desktop\\dl\\data\\extracted_images\\-\", '10')\n",
    "train_data.append(train)\n",
    "test_data.append(test)"
   ]
  },
  {
   "cell_type": "code",
   "execution_count": null,
   "id": "3db9546c",
   "metadata": {},
   "outputs": [],
   "source": [
    "# # Assign + = 11\n",
    "# data11=load_images_from_folder(r\"C:\\Users\\Admin\\Desktop\\dl\\handwritting_equation\\data\\extracted_images\\+\")\n",
    "\n",
    "# for i in range(0,len(data11)):\n",
    "#     data11[i]=np.append(data11[i],['11'])\n",
    "# data=np.concatenate((data,data11))\n",
    "# print(len(data))\n",
    "\n",
    "train, test = load_and_split(r\"C:\\Users\\Admin\\Desktop\\dl\\data\\extracted_images\\+\", '11')\n",
    "train_data.append(train)\n",
    "test_data.append(test)"
   ]
  },
  {
   "cell_type": "code",
   "execution_count": null,
   "id": "921fa29a",
   "metadata": {},
   "outputs": [],
   "source": [
    "# data12=load_images_from_folder(r\"C:\\Users\\Admin\\Desktop\\dl\\handwritting_equation\\data\\extracted_images\\times\")\n",
    "\n",
    "# for i in range(0,len(data12)):\n",
    "#     data12[i]=np.append(data12[i],['12'])\n",
    "# data=np.concatenate((data,data12))\n",
    "# print(len(data))\n",
    "\n",
    "train, test = load_and_split(r\"C:\\Users\\Admin\\Desktop\\dl\\data\\extracted_images\\times\", '12')\n",
    "train_data.append(train)\n",
    "test_data.append(test)"
   ]
  },
  {
   "cell_type": "code",
   "execution_count": null,
   "id": "135c201c",
   "metadata": {},
   "outputs": [],
   "source": [
    "# # data0=load_images_from_folder(r\"C:\\Users\\Admin\\Desktop\\dl\\handwritting_equation\\data\\extracted_images\\0\")\n",
    "\n",
    "# # for i in range(0,len(data0)):\n",
    "# #     data0[i]=np.append(data0[i],['0'])\n",
    "# # data=np.concatenate((data,data0))\n",
    "# # print(len(data))\n",
    "\n",
    "# train, test = load_and_split(r\"C:\\Users\\Admin\\Desktop\\dl\\handwritting_equation\\data\\extracted_images\\0\", '0')\n",
    "# train_data.append(train)\n",
    "# test_data.append(test)"
   ]
  },
  {
   "cell_type": "code",
   "execution_count": null,
   "id": "e434cb31",
   "metadata": {},
   "outputs": [],
   "source": [
    "# # data1=load_images_from_folder(r\"C:\\Users\\Admin\\Desktop\\dl\\handwritting_equation\\data\\extracted_images\\1\")\n",
    "\n",
    "# # for i in range(0,len(data1)):\n",
    "# #     data1[i]=np.append(data1[i],['1'])\n",
    "# # data=np.concatenate((data,data1))\n",
    "# # print(len(data))\n",
    "\n",
    "# train, test = load_and_split(r\"C:\\Users\\Admin\\Desktop\\dl\\handwritting_equation\\data\\extracted_images\\1\", '1')\n",
    "# train_data.append(train)\n",
    "# test_data.append(test)"
   ]
  },
  {
   "cell_type": "code",
   "execution_count": null,
   "id": "ea6622cf",
   "metadata": {},
   "outputs": [],
   "source": [
    "# # data2=load_images_from_folder(r\"C:\\Users\\Admin\\Desktop\\dl\\handwritting_equation\\data\\extracted_images\\2\")\n",
    "\n",
    "# # for i in range(0,len(data2)):\n",
    "# #     data2[i]=np.append(data2[i],['2'])\n",
    "# # data=np.concatenate((data,data2))\n",
    "# # print(len(data))\n",
    "\n",
    "# train, test = load_and_split(r\"C:\\Users\\Admin\\Desktop\\dl\\handwritting_equation\\data\\extracted_images\\2\", '2')\n",
    "# train_data.append(train)\n",
    "# test_data.append(test)"
   ]
  },
  {
   "cell_type": "code",
   "execution_count": null,
   "id": "cfaee1a6",
   "metadata": {},
   "outputs": [],
   "source": [
    "# # data3=load_images_from_folder(r\"C:\\Users\\Admin\\Desktop\\dl\\handwritting_equation\\data\\extracted_images\\3\")\n",
    "\n",
    "# # for i in range(0,len(data3)):\n",
    "# #     data3[i]=np.append(data3[i],['3'])\n",
    "# # data=np.concatenate((data,data3))\n",
    "# # print(len(data))\n",
    "\n",
    "# train, test = load_and_split(r\"C:\\Users\\Admin\\Desktop\\dl\\handwritting_equation\\data\\extracted_images\\3\", '3')\n",
    "# train_data.append(train)\n",
    "# test_data.append(test)"
   ]
  },
  {
   "cell_type": "code",
   "execution_count": null,
   "id": "fbf2c56e",
   "metadata": {},
   "outputs": [],
   "source": [
    "# # data4=load_images_from_folder(r\"C:\\Users\\Admin\\Desktop\\dl\\handwritting_equation\\data\\extracted_images\\4\")\n",
    "\n",
    "# # for i in range(0,len(data4)):\n",
    "# #     data4[i]=np.append(data4[i],['4'])\n",
    "# # data=np.concatenate((data,data4))\n",
    "# # print(len(data))\n",
    "\n",
    "# train, test = load_and_split(r\"C:\\Users\\Admin\\Desktop\\dl\\handwritting_equation\\data\\extracted_images\\4\", '4')\n",
    "# train_data.append(train)\n",
    "# test_data.append(test)"
   ]
  },
  {
   "cell_type": "code",
   "execution_count": null,
   "id": "e3bbd794",
   "metadata": {},
   "outputs": [],
   "source": [
    "# data5=load_images_from_folder(r\"C:\\Users\\Admin\\Desktop\\dl\\handwritting_equation\\data\\extracted_images\\5\")\n",
    "\n",
    "# for i in range(0,len(data5)):\n",
    "#     data5[i]=np.append(data5[i],['5'])\n",
    "# data=np.concatenate((data,data5))\n",
    "# print(len(data))"
   ]
  },
  {
   "cell_type": "code",
   "execution_count": null,
   "id": "bc175e96",
   "metadata": {},
   "outputs": [],
   "source": [
    "# data6=load_images_from_folder(r\"C:\\Users\\Admin\\Desktop\\dl\\handwritting_equation\\data\\extracted_images\\6\")\n",
    "\n",
    "# for i in range(0,len(data6)):\n",
    "#     data6[i]=np.append(data6[i],['6'])\n",
    "# data=np.concatenate((data,data6))\n",
    "# print(len(data))"
   ]
  },
  {
   "cell_type": "code",
   "execution_count": null,
   "id": "e4e6ac89",
   "metadata": {},
   "outputs": [],
   "source": [
    "# data7=load_images_from_folder(r\"C:\\Users\\Admin\\Desktop\\dl\\handwritting_equation\\data\\extracted_images\\7\")\n",
    "\n",
    "# for i in range(0,len(data7)):\n",
    "#     data7[i]=np.append(data7[i],['7'])\n",
    "# data=np.concatenate((data,data7))\n",
    "# print(len(data))"
   ]
  },
  {
   "cell_type": "code",
   "execution_count": null,
   "id": "a924f56f",
   "metadata": {},
   "outputs": [],
   "source": [
    "# data8=load_images_from_folder(r\"C:\\Users\\Admin\\Desktop\\dl\\handwritting_equation\\data\\extracted_images\\8\")\n",
    "\n",
    "# for i in range(0,len(data8)):\n",
    "#     data8[i]=np.append(data8[i],['8'])\n",
    "# data=np.concatenate((data,data8))\n",
    "# print(len(data))"
   ]
  },
  {
   "cell_type": "code",
   "execution_count": null,
   "id": "437483bc",
   "metadata": {},
   "outputs": [],
   "source": [
    "# data9=load_images_from_folder(r\"C:\\Users\\Admin\\Desktop\\dl\\handwritting_equation\\data\\extracted_images\\9\")\n",
    "\n",
    "# for i in range(0,len(data9)):\n",
    "#     data9[i]=np.append(data9[i],['9'])\n",
    "# data=np.concatenate((data,data9))\n",
    "# print(len(data))"
   ]
  },
  {
   "cell_type": "code",
   "execution_count": null,
   "id": "26c93a12",
   "metadata": {},
   "outputs": [],
   "source": [
    "# df=pd.DataFrame(data,index=None)\n",
    "# df.to_csv('train_final.csv',index=False)\n",
    "\n",
    "train_data = np.concatenate(train_data)\n",
    "test_data = np.concatenate(test_data)\n",
    "\n",
    "train_data = shuffle(train_data)\n",
    "test_data = shuffle(test_data)\n",
    "\n",
    "# Xuất ra CSV\n",
    "pd.DataFrame(train_data).to_csv(\"train_final.csv\", index=False)\n",
    "pd.DataFrame(test_data).to_csv(\"test_final.csv\", index=False)\n",
    "\n",
    "print(\"Tổng train:\", len(train_data))\n",
    "print(\"Tổng test:\", len(test_data))"
   ]
  },
  {
   "cell_type": "markdown",
   "id": "efa25040",
   "metadata": {},
   "source": [
    "**Data Extraction has been completed**"
   ]
  }
 ],
 "metadata": {
  "kernelspec": {
   "display_name": "Python 3",
   "language": "python",
   "name": "python3"
  },
  "language_info": {
   "codemirror_mode": {
    "name": "ipython",
    "version": 3
   },
   "file_extension": ".py",
   "mimetype": "text/x-python",
   "name": "python",
   "nbconvert_exporter": "python",
   "pygments_lexer": "ipython3",
   "version": "3.10.0"
  }
 },
 "nbformat": 4,
 "nbformat_minor": 5
}
