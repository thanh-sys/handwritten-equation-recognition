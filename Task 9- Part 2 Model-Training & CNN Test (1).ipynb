{
 "cells": [
  {
   "cell_type": "markdown",
   "id": "51dd43e1",
   "metadata": {},
   "source": [
    "# Part 2 : Model-Training & CNN Test"
   ]
  },
  {
   "attachments": {},
   "cell_type": "markdown",
   "id": "21c1e3a0",
   "metadata": {},
   "source": [
    "## Importing Libraries"
   ]
  },
  {
   "cell_type": "code",
   "execution_count": 2998,
   "id": "188579ab",
   "metadata": {},
   "outputs": [],
   "source": [
    "# Importing Libraries\n",
    "import pandas as pd\n",
    "import numpy as np\n",
    "import pickle"
   ]
  },
  {
   "cell_type": "code",
   "execution_count": 2999,
   "id": "c9dfe41a",
   "metadata": {},
   "outputs": [],
   "source": [
    "# df_train=pd.read_csv('train_final.csv',index_col=False)\n",
    "# labels=df_train[['784']]"
   ]
  },
  {
   "cell_type": "code",
   "execution_count": 3000,
   "id": "6e9d1151",
   "metadata": {
    "scrolled": false
   },
   "outputs": [],
   "source": [
    "# df_train.drop(df_train.columns[[784]],axis=1,inplace=True)\n",
    "# df_train.head(10)"
   ]
  },
  {
   "cell_type": "code",
   "execution_count": 3001,
   "id": "5ea9b967",
   "metadata": {},
   "outputs": [],
   "source": [
    "np.random.seed(1212)\n",
    "import keras\n",
    "from keras.models import Model\n",
    "from keras.layers import *\n",
    "from keras import optimizers\n",
    "from keras.layers import Input, Dense\n",
    "from keras.models import Sequential\n",
    "from keras.layers import Dense\n",
    "from keras.layers import Dropout\n",
    "from keras.layers import Flatten\n",
    "from keras.layers import Conv2D, MaxPooling2D\n",
    "from keras.utils import to_categorical\n",
    "\n",
    "from keras import backend as K\n",
    "# K.image_data_format()"
   ]
  },
  {
   "cell_type": "code",
   "execution_count": 3002,
   "id": "011ce716",
   "metadata": {},
   "outputs": [],
   "source": [
    "# labels=np.array(labels)\n",
    "# labels"
   ]
  },
  {
   "cell_type": "code",
   "execution_count": 3003,
   "id": "f24ddb5f",
   "metadata": {},
   "outputs": [],
   "source": [
    "\n",
    "# cat=to_categorical(labels,num_classes=13)"
   ]
  },
  {
   "cell_type": "code",
   "execution_count": 3004,
   "id": "ff7d2ffd",
   "metadata": {},
   "outputs": [],
   "source": [
    "# print(cat)"
   ]
  },
  {
   "cell_type": "code",
   "execution_count": 3005,
   "id": "105f33a1",
   "metadata": {},
   "outputs": [],
   "source": [
    "# df_train.head(10)"
   ]
  },
  {
   "cell_type": "code",
   "execution_count": 3006,
   "id": "f436cb1e",
   "metadata": {},
   "outputs": [],
   "source": [
    "# df_train.shape"
   ]
  },
  {
   "cell_type": "code",
   "execution_count": 3007,
   "id": "47b7fd20",
   "metadata": {},
   "outputs": [],
   "source": [
    "# temp=df_train.to_numpy()"
   ]
  },
  {
   "cell_type": "code",
   "execution_count": 3008,
   "id": "b311a959",
   "metadata": {},
   "outputs": [],
   "source": [
    "# X_train = temp.reshape(temp.shape[0], 28, 28, 1)"
   ]
  },
  {
   "cell_type": "code",
   "execution_count": 3009,
   "id": "428e8d95",
   "metadata": {},
   "outputs": [],
   "source": [
    "# temp.shape[0]"
   ]
  },
  {
   "cell_type": "code",
   "execution_count": 3010,
   "id": "ade56fd7",
   "metadata": {},
   "outputs": [],
   "source": [
    "# X_train.shape"
   ]
  },
  {
   "cell_type": "code",
   "execution_count": 3011,
   "id": "2e33cd29",
   "metadata": {},
   "outputs": [],
   "source": [
    "# l=[]\n",
    "# for i in range(50621):\n",
    "#     l.append(np.array(df_train[i:i+1]).reshape(1,28,28))"
   ]
  },
  {
   "cell_type": "code",
   "execution_count": 3012,
   "id": "d849e164",
   "metadata": {},
   "outputs": [],
   "source": [
    "# np.random.seed(7)"
   ]
  },
  {
   "cell_type": "code",
   "execution_count": 3013,
   "id": "2cac1314",
   "metadata": {},
   "outputs": [],
   "source": [
    "# X_train.shape"
   ]
  },
  {
   "cell_type": "markdown",
   "id": "bca211db",
   "metadata": {},
   "source": [
    "## Building the CNN model"
   ]
  },
  {
   "cell_type": "code",
   "execution_count": 3014,
   "id": "75678f97",
   "metadata": {},
   "outputs": [],
   "source": [
    "# model = Sequential()\n",
    "# model.add(Conv2D(32, (3,3), input_shape=(28, 28,1), activation='relu',padding='same'))\n",
    "# model.add(MaxPooling2D(pool_size=(2, 2)))\n",
    "# model.add(Conv2D(15, (3, 3), activation='relu'))\n",
    "# model.add(MaxPooling2D(pool_size=(2, 2)))\n",
    "# model.add(Dropout(0.2))\n",
    "# model.add(Flatten())\n",
    "# model.add(Dense(128, activation='relu'))\n",
    "# model.add(Dense(50, activation='relu'))\n",
    "# model.add(Dense(13, activation='softmax'))"
   ]
  },
  {
   "cell_type": "code",
   "execution_count": 3015,
   "id": "57285853",
   "metadata": {},
   "outputs": [],
   "source": [
    "# Compile model\n",
    "# model.compile(loss='categorical_crossentropy', optimizer='adam', metrics=['accuracy'])"
   ]
  },
  {
   "cell_type": "markdown",
   "id": "77c45d0c",
   "metadata": {},
   "source": [
    "## Training the model"
   ]
  },
  {
   "cell_type": "code",
   "execution_count": 3016,
   "id": "2f2fcf54",
   "metadata": {},
   "outputs": [],
   "source": [
    "from keras.models import model_from_json"
   ]
  },
  {
   "cell_type": "code",
   "execution_count": 3017,
   "id": "cba86d7c",
   "metadata": {},
   "outputs": [],
   "source": [
    "# model.fit(X_train, cat, epochs=10, batch_size=200,shuffle=True,verbose=1)"
   ]
  },
  {
   "cell_type": "code",
   "execution_count": 3018,
   "id": "abd86650",
   "metadata": {},
   "outputs": [],
   "source": [
    "# model_json = model.to_json()\n",
    "# with open(\"model_final.json\", \"w\") as json_file:\n",
    "#     json_file.write(model_json)\n",
    "# # # serialize weights to HDF5\n",
    "# model.save_weights(\"model_final.weights.h5\")\n"
   ]
  },
  {
   "cell_type": "code",
   "execution_count": 3019,
   "id": "42fb8611",
   "metadata": {},
   "outputs": [],
   "source": [
    "import cv2\n",
    "import numpy\n",
    "from keras.datasets import mnist\n",
    "from keras.models import Sequential\n",
    "from keras.layers import Dense\n",
    "from keras.layers import Dropout\n",
    "from keras.layers import Flatten\n",
    "from keras.layers import Conv2D,MaxPooling2D \n",
    "from keras import backend as K\n",
    "# K.set_image_dim_ordering('th')\n",
    "from keras.models import model_from_json"
   ]
  },
  {
   "cell_type": "code",
   "execution_count": 3020,
   "id": "a950b7b1",
   "metadata": {},
   "outputs": [],
   "source": [
    "json_file = open('model_final.json', 'r')\n",
    "loaded_model_json = json_file.read()\n",
    "json_file.close()\n",
    "loaded_model = model_from_json(loaded_model_json)\n",
    "# load weights into new model\n",
    "loaded_model.load_weights(\"model_final.weights.h5\")"
   ]
  },
  {
   "cell_type": "code",
   "execution_count": 3021,
   "id": "62e40afc",
   "metadata": {},
   "outputs": [],
   "source": [
    "import cv2\n",
    "import numpy as np\n",
    "img = cv2.imread('Untitled.png',cv2.IMREAD_GRAYSCALE)"
   ]
  },
  {
   "cell_type": "code",
   "execution_count": 3022,
   "id": "788a0ae1",
   "metadata": {},
   "outputs": [
    {
     "data": {
      "text/plain": [
       "array([[255, 255, 255, ..., 255, 255, 255],\n",
       "       [255, 255, 255, ..., 255, 255, 255],\n",
       "       [255, 255, 255, ..., 255, 255, 255],\n",
       "       ...,\n",
       "       [255, 255, 255, ..., 255, 255, 255],\n",
       "       [255, 255, 255, ..., 255, 255, 255],\n",
       "       [255, 255, 255, ..., 255, 255, 255]], dtype=uint8)"
      ]
     },
     "execution_count": 3022,
     "metadata": {},
     "output_type": "execute_result"
    }
   ],
   "source": [
    "img"
   ]
  },
  {
   "cell_type": "code",
   "execution_count": 3023,
   "id": "f93887be",
   "metadata": {},
   "outputs": [],
   "source": [
    "if img is not None:\n",
    "    img = ~img  # Đảo màu\n",
    "    ret, thresh = cv2.threshold(img, 127, 255, cv2.THRESH_BINARY)\n",
    "    \n",
    "    # Tìm contours của các chữ số trong ảnh\n",
    "    ctrs, _ = cv2.findContours(thresh, cv2.RETR_EXTERNAL, cv2.CHAIN_APPROX_SIMPLE)\n",
    "    \n",
    "    # Sắp xếp contours theo vị trí từ trái sang phải\n",
    "    cnt = sorted(ctrs, key=lambda ctr: cv2.boundingRect(ctr)[0])\n",
    "    \n",
    "    train_data = []\n",
    "    rects = [cv2.boundingRect(c) for c in cnt]  # Lưu danh sách (x, y, w, h)\n",
    "    \n",
    "    final_rect = []\n",
    "    for r in rects:\n",
    "        x, y, w, h = r\n",
    "        if w * h > 50:  # Bỏ qua các vùng quá nhỏ (nhiễu)\n",
    "            final_rect.append(r)\n",
    "    \n",
    "    for r in final_rect:\n",
    "        x, y, w, h = r\n",
    "        im_crop = thresh[y:y+h, x:x+w]  # Crop chính xác ký tự\n",
    "        \n",
    "        # Chuẩn hóa kích thước ảnh về (28, 28)\n",
    "        im_resize = cv2.resize(im_crop, (28, 28), interpolation=cv2.INTER_AREA)\n",
    "        im_resize = np.reshape(im_resize, (28, 28, 1))  # Chuyển thành dạng tensor\n",
    "    \n",
    "        train_data.append(im_resize)\n"
   ]
  },
  {
   "cell_type": "code",
   "execution_count": 3024,
   "id": "41eb3891",
   "metadata": {},
   "outputs": [
    {
     "name": "stdout",
     "output_type": "stream",
     "text": [
      "\u001b[1m1/1\u001b[0m \u001b[32m━━━━━━━━━━━━━━━━━━━━\u001b[0m\u001b[37m\u001b[0m \u001b[1m0s\u001b[0m 81ms/step\n",
      "\u001b[1m1/1\u001b[0m \u001b[32m━━━━━━━━━━━━━━━━━━━━\u001b[0m\u001b[37m\u001b[0m \u001b[1m0s\u001b[0m 34ms/step\n",
      "1\n",
      "\u001b[1m1/1\u001b[0m \u001b[32m━━━━━━━━━━━━━━━━━━━━\u001b[0m\u001b[37m\u001b[0m \u001b[1m0s\u001b[0m 37ms/step\n",
      "\u001b[1m1/1\u001b[0m \u001b[32m━━━━━━━━━━━━━━━━━━━━\u001b[0m\u001b[37m\u001b[0m \u001b[1m0s\u001b[0m 33ms/step\n",
      "2\n",
      "\u001b[1m1/1\u001b[0m \u001b[32m━━━━━━━━━━━━━━━━━━━━\u001b[0m\u001b[37m\u001b[0m \u001b[1m0s\u001b[0m 41ms/step\n",
      "\u001b[1m1/1\u001b[0m \u001b[32m━━━━━━━━━━━━━━━━━━━━\u001b[0m\u001b[37m\u001b[0m \u001b[1m0s\u001b[0m 36ms/step\n",
      "+\n",
      "\u001b[1m1/1\u001b[0m \u001b[32m━━━━━━━━━━━━━━━━━━━━\u001b[0m\u001b[37m\u001b[0m \u001b[1m0s\u001b[0m 39ms/step\n",
      "\u001b[1m1/1\u001b[0m \u001b[32m━━━━━━━━━━━━━━━━━━━━\u001b[0m\u001b[37m\u001b[0m \u001b[1m0s\u001b[0m 37ms/step\n",
      "1\n",
      "\u001b[1m1/1\u001b[0m \u001b[32m━━━━━━━━━━━━━━━━━━━━\u001b[0m\u001b[37m\u001b[0m \u001b[1m0s\u001b[0m 43ms/step\n",
      "\u001b[1m1/1\u001b[0m \u001b[32m━━━━━━━━━━━━━━━━━━━━\u001b[0m\u001b[37m\u001b[0m \u001b[1m0s\u001b[0m 35ms/step\n",
      "2\n",
      "12+12\n",
      "Kết quả: 24\n"
     ]
    }
   ],
   "source": [
    "s=''\n",
    "for i in range(len(train_data)):\n",
    "    train_data[i]=np.array(train_data[i])\n",
    "    train_data[i]=train_data[i].reshape(1,28,28,1)\n",
    "    result = np.argmax(loaded_model.predict(train_data[i]), axis=-1)\n",
    "    result=np.argmax(loaded_model.predict(train_data[i]), axis=-1)\n",
    "    if(result[0]==10):\n",
    "        print(\"-\")\n",
    "        s=s+'-'\n",
    "    if(result[0]==11):\n",
    "        print(\"+\")\n",
    "        s=s+'+'\n",
    "    if(result[0]==12):\n",
    "        print(\"*\")\n",
    "        s=s+'*'\n",
    "    if(result[0]==0):\n",
    "        print(\"0\")\n",
    "        s=s+'0'\n",
    "    if(result[0]==1):\n",
    "        print(\"1\")\n",
    "        s=s+'1'\n",
    "    if(result[0]==2):\n",
    "        print(\"2\")\n",
    "        s=s+'2'\n",
    "    if(result[0]==3):\n",
    "        print(\"3\")\n",
    "        s=s+'3'\n",
    "    if(result[0]==4):\n",
    "        print(\"4\")\n",
    "        s=s+'4'\n",
    "    if(result[0]==5):\n",
    "        print(\"5\")\n",
    "        s=s+'5'\n",
    "    if(result[0]==6):\n",
    "        print(\"6\")\n",
    "        s=s+'6'\n",
    "    if(result[0]==7):\n",
    "        print(\"7\")\n",
    "        s=s+'7'\n",
    "    if(result[0]==8):\n",
    "        print(\"8\")\n",
    "        s=s+'8'\n",
    "    if(result[0]==9):\n",
    "        print(\"9\")  \n",
    "        s=s+'9'\n",
    "\n",
    "print(s)\n",
    "try:\n",
    "    result = eval(s)  # Tính toán chuỗi biểu thức\n",
    "    print(\"Kết quả:\", result)\n",
    "except Exception as e:\n",
    "    print(\"Lỗi tính toán:\", e)\n"
   ]
  },
  {
   "cell_type": "markdown",
   "id": "d9feabd4",
   "metadata": {},
   "source": [
    "## Our Model was successfully Tested \n",
    "\n",
    "# Thank You !"
   ]
  }
 ],
 "metadata": {
  "kernelspec": {
   "display_name": "Python 3",
   "language": "python",
   "name": "python3"
  },
  "language_info": {
   "codemirror_mode": {
    "name": "ipython",
    "version": 3
   },
   "file_extension": ".py",
   "mimetype": "text/x-python",
   "name": "python",
   "nbconvert_exporter": "python",
   "pygments_lexer": "ipython3",
   "version": "3.10.0"
  }
 },
 "nbformat": 4,
 "nbformat_minor": 5
}
