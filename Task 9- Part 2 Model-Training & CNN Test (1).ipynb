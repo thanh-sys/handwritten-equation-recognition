{
 "cells": [
  {
   "cell_type": "markdown",
   "id": "51dd43e1",
   "metadata": {},
   "source": [
    "\n",
    "\n",
    "\n",
    "# Part 2 : Model-Training & CNN Test"
   ]
  },
  {
   "attachments": {},
   "cell_type": "markdown",
   "id": "21c1e3a0",
   "metadata": {},
   "source": [
    "## Importing Libraries"
   ]
  },
  {
   "cell_type": "code",
   "execution_count": 1,
   "id": "188579ab",
   "metadata": {},
   "outputs": [],
   "source": [
    "# Importing Libraries\n",
    "import pandas as pd\n",
    "import numpy as np\n",
    "import pickle"
   ]
  },
  {
   "cell_type": "code",
   "execution_count": 2,
   "id": "c9dfe41a",
   "metadata": {},
   "outputs": [],
   "source": [
    "df_train=pd.read_csv('train_final.csv',index_col=False)\n",
    "labels=df_train[['2025']]"
   ]
  },
  {
   "cell_type": "code",
   "execution_count": 3,
   "id": "6e9d1151",
   "metadata": {
    "scrolled": false
   },
   "outputs": [
    {
     "data": {
      "text/html": [
       "<div>\n",
       "<style scoped>\n",
       "    .dataframe tbody tr th:only-of-type {\n",
       "        vertical-align: middle;\n",
       "    }\n",
       "\n",
       "    .dataframe tbody tr th {\n",
       "        vertical-align: top;\n",
       "    }\n",
       "\n",
       "    .dataframe thead th {\n",
       "        text-align: right;\n",
       "    }\n",
       "</style>\n",
       "<table border=\"1\" class=\"dataframe\">\n",
       "  <thead>\n",
       "    <tr style=\"text-align: right;\">\n",
       "      <th></th>\n",
       "      <th>0</th>\n",
       "      <th>1</th>\n",
       "      <th>2</th>\n",
       "      <th>3</th>\n",
       "      <th>4</th>\n",
       "      <th>5</th>\n",
       "      <th>6</th>\n",
       "      <th>7</th>\n",
       "      <th>8</th>\n",
       "      <th>9</th>\n",
       "      <th>...</th>\n",
       "      <th>2015</th>\n",
       "      <th>2016</th>\n",
       "      <th>2017</th>\n",
       "      <th>2018</th>\n",
       "      <th>2019</th>\n",
       "      <th>2020</th>\n",
       "      <th>2021</th>\n",
       "      <th>2022</th>\n",
       "      <th>2023</th>\n",
       "      <th>2024</th>\n",
       "    </tr>\n",
       "  </thead>\n",
       "  <tbody>\n",
       "    <tr>\n",
       "      <th>0</th>\n",
       "      <td>0</td>\n",
       "      <td>0</td>\n",
       "      <td>0</td>\n",
       "      <td>0</td>\n",
       "      <td>0</td>\n",
       "      <td>0</td>\n",
       "      <td>0</td>\n",
       "      <td>0</td>\n",
       "      <td>0</td>\n",
       "      <td>0</td>\n",
       "      <td>...</td>\n",
       "      <td>0</td>\n",
       "      <td>0</td>\n",
       "      <td>0</td>\n",
       "      <td>0</td>\n",
       "      <td>0</td>\n",
       "      <td>0</td>\n",
       "      <td>0</td>\n",
       "      <td>0</td>\n",
       "      <td>0</td>\n",
       "      <td>0</td>\n",
       "    </tr>\n",
       "    <tr>\n",
       "      <th>1</th>\n",
       "      <td>0</td>\n",
       "      <td>0</td>\n",
       "      <td>0</td>\n",
       "      <td>0</td>\n",
       "      <td>0</td>\n",
       "      <td>0</td>\n",
       "      <td>0</td>\n",
       "      <td>0</td>\n",
       "      <td>0</td>\n",
       "      <td>0</td>\n",
       "      <td>...</td>\n",
       "      <td>0</td>\n",
       "      <td>0</td>\n",
       "      <td>0</td>\n",
       "      <td>0</td>\n",
       "      <td>0</td>\n",
       "      <td>0</td>\n",
       "      <td>0</td>\n",
       "      <td>0</td>\n",
       "      <td>0</td>\n",
       "      <td>0</td>\n",
       "    </tr>\n",
       "    <tr>\n",
       "      <th>2</th>\n",
       "      <td>255</td>\n",
       "      <td>255</td>\n",
       "      <td>0</td>\n",
       "      <td>0</td>\n",
       "      <td>0</td>\n",
       "      <td>0</td>\n",
       "      <td>0</td>\n",
       "      <td>0</td>\n",
       "      <td>0</td>\n",
       "      <td>0</td>\n",
       "      <td>...</td>\n",
       "      <td>0</td>\n",
       "      <td>0</td>\n",
       "      <td>0</td>\n",
       "      <td>0</td>\n",
       "      <td>0</td>\n",
       "      <td>0</td>\n",
       "      <td>0</td>\n",
       "      <td>0</td>\n",
       "      <td>0</td>\n",
       "      <td>0</td>\n",
       "    </tr>\n",
       "    <tr>\n",
       "      <th>3</th>\n",
       "      <td>0</td>\n",
       "      <td>0</td>\n",
       "      <td>0</td>\n",
       "      <td>0</td>\n",
       "      <td>0</td>\n",
       "      <td>0</td>\n",
       "      <td>0</td>\n",
       "      <td>0</td>\n",
       "      <td>0</td>\n",
       "      <td>0</td>\n",
       "      <td>...</td>\n",
       "      <td>0</td>\n",
       "      <td>0</td>\n",
       "      <td>0</td>\n",
       "      <td>0</td>\n",
       "      <td>0</td>\n",
       "      <td>0</td>\n",
       "      <td>0</td>\n",
       "      <td>0</td>\n",
       "      <td>0</td>\n",
       "      <td>0</td>\n",
       "    </tr>\n",
       "    <tr>\n",
       "      <th>4</th>\n",
       "      <td>0</td>\n",
       "      <td>0</td>\n",
       "      <td>0</td>\n",
       "      <td>0</td>\n",
       "      <td>0</td>\n",
       "      <td>0</td>\n",
       "      <td>0</td>\n",
       "      <td>0</td>\n",
       "      <td>0</td>\n",
       "      <td>0</td>\n",
       "      <td>...</td>\n",
       "      <td>0</td>\n",
       "      <td>0</td>\n",
       "      <td>0</td>\n",
       "      <td>0</td>\n",
       "      <td>0</td>\n",
       "      <td>0</td>\n",
       "      <td>0</td>\n",
       "      <td>0</td>\n",
       "      <td>0</td>\n",
       "      <td>0</td>\n",
       "    </tr>\n",
       "    <tr>\n",
       "      <th>5</th>\n",
       "      <td>0</td>\n",
       "      <td>0</td>\n",
       "      <td>0</td>\n",
       "      <td>0</td>\n",
       "      <td>0</td>\n",
       "      <td>0</td>\n",
       "      <td>0</td>\n",
       "      <td>0</td>\n",
       "      <td>0</td>\n",
       "      <td>0</td>\n",
       "      <td>...</td>\n",
       "      <td>0</td>\n",
       "      <td>0</td>\n",
       "      <td>0</td>\n",
       "      <td>0</td>\n",
       "      <td>0</td>\n",
       "      <td>0</td>\n",
       "      <td>0</td>\n",
       "      <td>0</td>\n",
       "      <td>0</td>\n",
       "      <td>0</td>\n",
       "    </tr>\n",
       "    <tr>\n",
       "      <th>6</th>\n",
       "      <td>0</td>\n",
       "      <td>0</td>\n",
       "      <td>0</td>\n",
       "      <td>0</td>\n",
       "      <td>0</td>\n",
       "      <td>0</td>\n",
       "      <td>0</td>\n",
       "      <td>0</td>\n",
       "      <td>0</td>\n",
       "      <td>0</td>\n",
       "      <td>...</td>\n",
       "      <td>0</td>\n",
       "      <td>0</td>\n",
       "      <td>0</td>\n",
       "      <td>0</td>\n",
       "      <td>0</td>\n",
       "      <td>0</td>\n",
       "      <td>0</td>\n",
       "      <td>0</td>\n",
       "      <td>0</td>\n",
       "      <td>0</td>\n",
       "    </tr>\n",
       "    <tr>\n",
       "      <th>7</th>\n",
       "      <td>0</td>\n",
       "      <td>0</td>\n",
       "      <td>0</td>\n",
       "      <td>0</td>\n",
       "      <td>0</td>\n",
       "      <td>0</td>\n",
       "      <td>0</td>\n",
       "      <td>0</td>\n",
       "      <td>0</td>\n",
       "      <td>0</td>\n",
       "      <td>...</td>\n",
       "      <td>0</td>\n",
       "      <td>0</td>\n",
       "      <td>0</td>\n",
       "      <td>0</td>\n",
       "      <td>0</td>\n",
       "      <td>0</td>\n",
       "      <td>0</td>\n",
       "      <td>0</td>\n",
       "      <td>0</td>\n",
       "      <td>0</td>\n",
       "    </tr>\n",
       "    <tr>\n",
       "      <th>8</th>\n",
       "      <td>0</td>\n",
       "      <td>0</td>\n",
       "      <td>0</td>\n",
       "      <td>0</td>\n",
       "      <td>0</td>\n",
       "      <td>0</td>\n",
       "      <td>255</td>\n",
       "      <td>255</td>\n",
       "      <td>255</td>\n",
       "      <td>255</td>\n",
       "      <td>...</td>\n",
       "      <td>0</td>\n",
       "      <td>0</td>\n",
       "      <td>0</td>\n",
       "      <td>0</td>\n",
       "      <td>0</td>\n",
       "      <td>0</td>\n",
       "      <td>0</td>\n",
       "      <td>0</td>\n",
       "      <td>0</td>\n",
       "      <td>0</td>\n",
       "    </tr>\n",
       "    <tr>\n",
       "      <th>9</th>\n",
       "      <td>0</td>\n",
       "      <td>0</td>\n",
       "      <td>0</td>\n",
       "      <td>0</td>\n",
       "      <td>0</td>\n",
       "      <td>0</td>\n",
       "      <td>0</td>\n",
       "      <td>0</td>\n",
       "      <td>0</td>\n",
       "      <td>0</td>\n",
       "      <td>...</td>\n",
       "      <td>0</td>\n",
       "      <td>0</td>\n",
       "      <td>0</td>\n",
       "      <td>0</td>\n",
       "      <td>0</td>\n",
       "      <td>0</td>\n",
       "      <td>0</td>\n",
       "      <td>0</td>\n",
       "      <td>0</td>\n",
       "      <td>0</td>\n",
       "    </tr>\n",
       "  </tbody>\n",
       "</table>\n",
       "<p>10 rows × 2025 columns</p>\n",
       "</div>"
      ],
      "text/plain": [
       "     0    1  2  3  4  5    6    7    8    9  ...  2015  2016  2017  2018  \\\n",
       "0    0    0  0  0  0  0    0    0    0    0  ...     0     0     0     0   \n",
       "1    0    0  0  0  0  0    0    0    0    0  ...     0     0     0     0   \n",
       "2  255  255  0  0  0  0    0    0    0    0  ...     0     0     0     0   \n",
       "3    0    0  0  0  0  0    0    0    0    0  ...     0     0     0     0   \n",
       "4    0    0  0  0  0  0    0    0    0    0  ...     0     0     0     0   \n",
       "5    0    0  0  0  0  0    0    0    0    0  ...     0     0     0     0   \n",
       "6    0    0  0  0  0  0    0    0    0    0  ...     0     0     0     0   \n",
       "7    0    0  0  0  0  0    0    0    0    0  ...     0     0     0     0   \n",
       "8    0    0  0  0  0  0  255  255  255  255  ...     0     0     0     0   \n",
       "9    0    0  0  0  0  0    0    0    0    0  ...     0     0     0     0   \n",
       "\n",
       "   2019  2020  2021  2022  2023  2024  \n",
       "0     0     0     0     0     0     0  \n",
       "1     0     0     0     0     0     0  \n",
       "2     0     0     0     0     0     0  \n",
       "3     0     0     0     0     0     0  \n",
       "4     0     0     0     0     0     0  \n",
       "5     0     0     0     0     0     0  \n",
       "6     0     0     0     0     0     0  \n",
       "7     0     0     0     0     0     0  \n",
       "8     0     0     0     0     0     0  \n",
       "9     0     0     0     0     0     0  \n",
       "\n",
       "[10 rows x 2025 columns]"
      ]
     },
     "execution_count": 3,
     "metadata": {},
     "output_type": "execute_result"
    }
   ],
   "source": [
    "df_train.drop(df_train.columns[[45*45]],axis=1,inplace=True)\n",
    "df_train.head(10)"
   ]
  },
  {
   "cell_type": "code",
   "execution_count": 4,
   "id": "5ea9b967",
   "metadata": {},
   "outputs": [],
   "source": [
    "np.random.seed(1212)\n",
    "import keras\n",
    "from keras.models import Model\n",
    "from keras.layers import *\n",
    "from keras import optimizers\n",
    "from keras.layers import Input, Dense\n",
    "from keras.models import Sequential\n",
    "from keras.layers import Dense\n",
    "from keras.layers import Dropout\n",
    "from keras.layers import Flatten\n",
    "from keras.layers import Conv2D, MaxPooling2D\n",
    "from keras.utils import to_categorical\n",
    "\n",
    "from keras import backend as K\n",
    "# K.image_data_format()"
   ]
  },
  {
   "cell_type": "code",
   "execution_count": 5,
   "id": "011ce716",
   "metadata": {},
   "outputs": [
    {
     "data": {
      "text/plain": [
       "array([[ 3],\n",
       "       [ 2],\n",
       "       [10],\n",
       "       ...,\n",
       "       [10],\n",
       "       [11],\n",
       "       [11]])"
      ]
     },
     "execution_count": 5,
     "metadata": {},
     "output_type": "execute_result"
    }
   ],
   "source": [
    "labels=np.array(labels)\n",
    "labels"
   ]
  },
  {
   "cell_type": "code",
   "execution_count": 6,
   "id": "f24ddb5f",
   "metadata": {},
   "outputs": [
    {
     "name": "stdout",
     "output_type": "stream",
     "text": [
      "[[0. 0. 0. ... 0. 0. 0.]\n",
      " [0. 0. 1. ... 0. 0. 0.]\n",
      " [0. 0. 0. ... 1. 0. 0.]\n",
      " ...\n",
      " [0. 0. 0. ... 1. 0. 0.]\n",
      " [0. 0. 0. ... 0. 1. 0.]\n",
      " [0. 0. 0. ... 0. 1. 0.]]\n"
     ]
    }
   ],
   "source": [
    "\n",
    "cat=to_categorical(labels,num_classes=13)\n",
    "print(cat)"
   ]
  },
  {
   "cell_type": "code",
   "execution_count": 7,
   "id": "f436cb1e",
   "metadata": {},
   "outputs": [
    {
     "data": {
      "text/plain": [
       "(206881, 2025)"
      ]
     },
     "execution_count": 7,
     "metadata": {},
     "output_type": "execute_result"
    }
   ],
   "source": [
    "df_train.shape"
   ]
  },
  {
   "cell_type": "code",
   "execution_count": 8,
   "id": "47b7fd20",
   "metadata": {},
   "outputs": [
    {
     "data": {
      "text/plain": [
       "(206881, 45, 45, 1)"
      ]
     },
     "execution_count": 8,
     "metadata": {},
     "output_type": "execute_result"
    }
   ],
   "source": [
    "temp=df_train.to_numpy()\n",
    "X_train = temp.reshape(temp.shape[0], 45, 45, 1)\n",
    "X_train.shape"
   ]
  },
  {
   "cell_type": "code",
   "execution_count": 9,
   "id": "2e33cd29",
   "metadata": {},
   "outputs": [],
   "source": [
    "l=[]\n",
    "for i in range(df_train.shape[0]):\n",
    "    l.append(np.array(df_train[i:i+1]).reshape(1,45,45))"
   ]
  },
  {
   "cell_type": "code",
   "execution_count": 10,
   "id": "d849e164",
   "metadata": {},
   "outputs": [],
   "source": [
    "np.random.seed(7)"
   ]
  },
  {
   "cell_type": "markdown",
   "id": "bca211db",
   "metadata": {},
   "source": [
    "## Building the CNN model"
   ]
  },
  {
   "cell_type": "code",
   "execution_count": 11,
   "id": "75678f97",
   "metadata": {},
   "outputs": [
    {
     "name": "stderr",
     "output_type": "stream",
     "text": [
      "c:\\project\\python\\handwritten-equation-recognition\\.venv\\lib\\site-packages\\keras\\src\\layers\\convolutional\\base_conv.py:107: UserWarning: Do not pass an `input_shape`/`input_dim` argument to a layer. When using Sequential models, prefer using an `Input(shape)` object as the first layer in the model instead.\n",
      "  super().__init__(activity_regularizer=activity_regularizer, **kwargs)\n"
     ]
    }
   ],
   "source": [
    "model = Sequential()\n",
    "model.add(Conv2D(32, (3,3), input_shape=(45,45,1), activation='relu',padding='same'))\n",
    "model.add(MaxPooling2D(pool_size=(2, 2)))\n",
    "model.add(Conv2D(15, (3, 3), activation='relu'))\n",
    "model.add(MaxPooling2D(pool_size=(2, 2)))\n",
    "model.add(Dropout(0.2))\n",
    "model.add(Flatten())\n",
    "model.add(Dense(128, activation='relu'))\n",
    "model.add(Dense(50, activation='relu'))\n",
    "model.add(Dense(13, activation='softmax'))\n",
    "\n",
    "# Compile model\n",
    "model.compile(loss='categorical_crossentropy', optimizer='adam', metrics=['accuracy'])"
   ]
  },
  {
   "cell_type": "markdown",
   "id": "77c45d0c",
   "metadata": {},
   "source": [
    "## Training the model"
   ]
  },
  {
   "cell_type": "code",
   "execution_count": 12,
   "id": "2f2fcf54",
   "metadata": {},
   "outputs": [],
   "source": [
    "# from keras.models import model_from_json"
   ]
  },
  {
   "cell_type": "code",
   "execution_count": 13,
   "id": "cba86d7c",
   "metadata": {},
   "outputs": [
    {
     "name": "stdout",
     "output_type": "stream",
     "text": [
      "Epoch 1/10\n",
      "\u001b[1m828/828\u001b[0m \u001b[32m━━━━━━━━━━━━━━━━━━━━\u001b[0m\u001b[37m\u001b[0m \u001b[1m88s\u001b[0m 102ms/step - accuracy: 0.8676 - loss: 0.9889 - val_accuracy: 0.9881 - val_loss: 0.0467\n",
      "Epoch 2/10\n",
      "\u001b[1m828/828\u001b[0m \u001b[32m━━━━━━━━━━━━━━━━━━━━\u001b[0m\u001b[37m\u001b[0m \u001b[1m62s\u001b[0m 75ms/step - accuracy: 0.9869 - loss: 0.0481 - val_accuracy: 0.9943 - val_loss: 0.0243\n",
      "Epoch 3/10\n",
      "\u001b[1m828/828\u001b[0m \u001b[32m━━━━━━━━━━━━━━━━━━━━\u001b[0m\u001b[37m\u001b[0m \u001b[1m63s\u001b[0m 76ms/step - accuracy: 0.9935 - loss: 0.0233 - val_accuracy: 0.9965 - val_loss: 0.0167\n",
      "Epoch 4/10\n",
      "\u001b[1m828/828\u001b[0m \u001b[32m━━━━━━━━━━━━━━━━━━━━\u001b[0m\u001b[37m\u001b[0m \u001b[1m61s\u001b[0m 73ms/step - accuracy: 0.9951 - loss: 0.0184 - val_accuracy: 0.9963 - val_loss: 0.0147\n",
      "Epoch 5/10\n",
      "\u001b[1m828/828\u001b[0m \u001b[32m━━━━━━━━━━━━━━━━━━━━\u001b[0m\u001b[37m\u001b[0m \u001b[1m63s\u001b[0m 76ms/step - accuracy: 0.9962 - loss: 0.0133 - val_accuracy: 0.9977 - val_loss: 0.0110\n",
      "Epoch 6/10\n",
      "\u001b[1m828/828\u001b[0m \u001b[32m━━━━━━━━━━━━━━━━━━━━\u001b[0m\u001b[37m\u001b[0m \u001b[1m60s\u001b[0m 73ms/step - accuracy: 0.9956 - loss: 0.0144 - val_accuracy: 0.9960 - val_loss: 0.0172\n",
      "Epoch 7/10\n",
      "\u001b[1m828/828\u001b[0m \u001b[32m━━━━━━━━━━━━━━━━━━━━\u001b[0m\u001b[37m\u001b[0m \u001b[1m64s\u001b[0m 78ms/step - accuracy: 0.9965 - loss: 0.0118 - val_accuracy: 0.9974 - val_loss: 0.0125\n",
      "Epoch 8/10\n",
      "\u001b[1m828/828\u001b[0m \u001b[32m━━━━━━━━━━━━━━━━━━━━\u001b[0m\u001b[37m\u001b[0m \u001b[1m61s\u001b[0m 73ms/step - accuracy: 0.9974 - loss: 0.0096 - val_accuracy: 0.9975 - val_loss: 0.0125\n",
      "Epoch 9/10\n",
      "\u001b[1m828/828\u001b[0m \u001b[32m━━━━━━━━━━━━━━━━━━━━\u001b[0m\u001b[37m\u001b[0m \u001b[1m61s\u001b[0m 73ms/step - accuracy: 0.9974 - loss: 0.0090 - val_accuracy: 0.9977 - val_loss: 0.0110\n",
      "Epoch 10/10\n",
      "\u001b[1m828/828\u001b[0m \u001b[32m━━━━━━━━━━━━━━━━━━━━\u001b[0m\u001b[37m\u001b[0m \u001b[1m66s\u001b[0m 79ms/step - accuracy: 0.9981 - loss: 0.0071 - val_accuracy: 0.9981 - val_loss: 0.0095\n"
     ]
    },
    {
     "data": {
      "image/png": "[encoded data removed]",
      "text/plain": [
       "<Figure size 640x480 with 1 Axes>"
      ]
     },
     "metadata": {},
     "output_type": "display_data"
    }
   ],
   "source": [
    "import matplotlib.pyplot as plt\n",
    "history = model.fit(X_train, cat, epochs=10, batch_size=200, shuffle=True, verbose=1, validation_split=0.2)\n",
    "\n",
    "plt.style.use('ggplot')\n",
    "plt.plot(history.history['accuracy'], label='Training Accuracy')\n",
    "plt.plot(history.history['val_accuracy'], label='Validation Accuracy')\n",
    "plt.xlabel('Epochs')\n",
    "plt.ylabel('Accuracy')\n",
    "plt.legend()\n",
    "plt.title(\"Training vs Validation Accuracy\")\n",
    "plt.show()"
   ]
  },
  {
   "cell_type": "code",
   "execution_count": 14,
   "id": "838e07df",
   "metadata": {},
   "outputs": [
    {
     "data": {
      "text/plain": [
       "(51727, 45, 45, 1)"
      ]
     },
     "execution_count": 14,
     "metadata": {},
     "output_type": "execute_result"
    }
   ],
   "source": [
    "df_test = pd.read_csv('test_final.csv',index_col=False)\n",
    "y_test = df_test[['2025']]\n",
    "y_test = np.array(y_test)\n",
    "y_test = to_categorical(y_test, num_classes=13)\n",
    "\n",
    "x_test = df_test.drop(columns=['2025'])\n",
    "\n",
    "test_np = x_test.to_numpy()\n",
    "x_test = test_np.reshape(test_np.shape[0], 45, 45, 1)\n",
    "\n",
    "x_test.shape"
   ]
  },
  {
   "cell_type": "code",
   "execution_count": 15,
   "id": "642e48f6",
   "metadata": {},
   "outputs": [
    {
     "name": "stdout",
     "output_type": "stream",
     "text": [
      "\u001b[1m1617/1617\u001b[0m \u001b[32m━━━━━━━━━━━━━━━━━━━━\u001b[0m\u001b[37m\u001b[0m \u001b[1m8s\u001b[0m 5ms/step - accuracy: 0.9962 - loss: 0.0192\n",
      "Test loss: 0.01740856096148491\n",
      "Test accuracy: 0.9961915612220764\n"
     ]
    }
   ],
   "source": [
    "test_loss, test_acc = model.evaluate(x_test, y_test)\n",
    "print(\"Test loss:\", test_loss)\n",
    "print(\"Test accuracy:\", test_acc)"
   ]
  },
  {
   "cell_type": "code",
   "execution_count": 16,
   "id": "abd86650",
   "metadata": {},
   "outputs": [],
   "source": [
    "model_json = model.to_json()\n",
    "with open(\"model_final.json\", \"w\") as json_file:\n",
    "    json_file.write(model_json)\n",
    "# # serialize weights to HDF5\n",
    "model.save_weights(\"model_final.weights.h5\")\n"
   ]
  },
  {
   "cell_type": "code",
   "execution_count": 17,
   "id": "42fb8611",
   "metadata": {},
   "outputs": [],
   "source": [
    "import cv2\n",
    "import numpy\n",
    "from keras.datasets import mnist\n",
    "from keras.models import Sequential\n",
    "from keras.layers import Dense\n",
    "from keras.layers import Dropout\n",
    "from keras.layers import Flatten\n",
    "from keras.layers import Conv2D,MaxPooling2D \n",
    "from keras import backend as K\n",
    "# K.set_image_dim_ordering('th')\n",
    "from keras.models import model_from_json"
   ]
  },
  {
   "cell_type": "code",
   "execution_count": 18,
   "id": "a950b7b1",
   "metadata": {},
   "outputs": [],
   "source": [
    "json_file = open('model_final.json', 'r')\n",
    "loaded_model_json = json_file.read()\n",
    "json_file.close()\n",
    "loaded_model = model_from_json(loaded_model_json)\n",
    "# load weights into new model\n",
    "loaded_model.load_weights(\"model_final.weights.h5\")"
   ]
  },
  {
   "cell_type": "code",
   "execution_count": 19,
   "id": "62e40afc",
   "metadata": {},
   "outputs": [],
   "source": [
    "import cv2\n",
    "import numpy as np\n",
    "img = cv2.imread(r'Untitled.png',cv2.IMREAD_GRAYSCALE)\n",
    "# img = cv2.imread(r'D:\\handwritting_equation\\Untitled.png',cv2.IMREAD_GRAYSCALE)"
   ]
  },
  {
   "cell_type": "code",
   "execution_count": 20,
   "id": "788a0ae1",
   "metadata": {},
   "outputs": [
    {
     "data": {
      "text/plain": [
       "array([[255, 255, 255, ..., 255, 255, 255],\n",
       "       [255, 255, 255, ..., 255, 255, 255],\n",
       "       [255, 255, 255, ..., 255, 255, 255],\n",
       "       ...,\n",
       "       [255, 255, 255, ..., 255, 255, 255],\n",
       "       [255, 255, 255, ..., 255, 255, 255],\n",
       "       [255, 255, 255, ..., 255, 255, 255]], dtype=uint8)"
      ]
     },
     "execution_count": 20,
     "metadata": {},
     "output_type": "execute_result"
    }
   ],
   "source": [
    "img"
   ]
  },
  {
   "cell_type": "code",
   "execution_count": 21,
   "id": "f93887be",
   "metadata": {},
   "outputs": [],
   "source": [
    "if img is not None:\n",
    "    img = ~img  # Đảo màu\n",
    "    ret, thresh = cv2.threshold(img, 127, 255, cv2.THRESH_BINARY)\n",
    "    \n",
    "    # Tìm contours của các chữ số trong ảnh\n",
    "    ctrs, _ = cv2.findContours(thresh, cv2.RETR_EXTERNAL, cv2.CHAIN_APPROX_NONE)\n",
    "    \n",
    "    # Sắp xếp contours theo vị trí từ trái sang phải\n",
    "    cnt = sorted(ctrs, key=lambda ctr: cv2.boundingRect(ctr)[0])\n",
    "    \n",
    "    train_data = []\n",
    "    rects = [cv2.boundingRect(c) for c in cnt]  # Lưu danh sách (x, y, w, h)\n",
    "    \n",
    "    final_rect = []\n",
    "    for r in rects:\n",
    "        x, y, w, h = r\n",
    "        if w * h > 40:  # Bỏ qua các vùng quá nhỏ (nhiễu)\n",
    "            final_rect.append(r)\n",
    "    \n",
    "    for r in final_rect:\n",
    "        x, y, w, h = r\n",
    "        im_crop = thresh[y:y+h, x:x+w]  # Crop chính xác ký tự\n",
    "        padding = 10\n",
    "        im_crop = thresh[max(0, y-padding):min(y+h+padding, thresh.shape[0]),\n",
    "                        max(0, x-padding):min(x+w+padding, thresh.shape[1])]\n",
    "\n",
    "        # Chuẩn hóa kích thước ảnh về (28, 28)\n",
    "        im_resize = cv2.resize(im_crop, (45, 45), interpolation=cv2.INTER_AREA)\n",
    "        # im_resize = np.reshape(im_resize, (45, 45, 1))  # Chuyển thành dạng tensor\n",
    "    \n",
    "        train_data.append(im_resize)    \n",
    "\n",
    "    # train_data = []\n",
    "    # for c in cnt:\n",
    "\n",
    "    # rects = [cv2.boundingRect(c) for c in cnt]  # Lưu danh sách (x, y, w, h)\n",
    "    \n",
    "    # final_rect = []\n",
    "    # for c in cnt:\n",
    "    #     x, y, w, h = r\n",
    "    #     # if w * h > 1:  # Bỏ qua các vùng quá nhỏ (nhiễu)\n",
    "    #     final_rect.append(r)\n",
    "    \n",
    "    # for r in final_rect:\n",
    "    #     x, y, w, h = r\n",
    "    #     im_crop = thresh[y:y+h, x:x+w]  # Crop chính xác ký tự\n",
    "        \n",
    "    #     # Chuẩn hóa kích thước ảnh về (28, 28)\n",
    "    #     im_resize = cv2.resize(im_crop, (28, 28), interpolation=cv2.INTER_AREA)\n",
    "    #     im_resize = np.reshape(im_resize, (28, 28, 1))  # Chuyển thành dạng tensor\n",
    "    \n",
    "    #     train_data.append(im_resize)    \n"
   ]
  },
  {
   "cell_type": "code",
   "execution_count": 22,
   "id": "41eb3891",
   "metadata": {},
   "outputs": [
    {
     "name": "stdout",
     "output_type": "stream",
     "text": [
      "\u001b[1m1/1\u001b[0m \u001b[32m━━━━━━━━━━━━━━━━━━━━\u001b[0m\u001b[37m\u001b[0m \u001b[1m0s\u001b[0m 102ms/step\n",
      "\u001b[1m1/1\u001b[0m \u001b[32m━━━━━━━━━━━━━━━━━━━━\u001b[0m\u001b[37m\u001b[0m \u001b[1m0s\u001b[0m 40ms/step\n",
      "8\n",
      "\u001b[1m1/1\u001b[0m \u001b[32m━━━━━━━━━━━━━━━━━━━━\u001b[0m\u001b[37m\u001b[0m \u001b[1m0s\u001b[0m 35ms/step\n",
      "\u001b[1m1/1\u001b[0m \u001b[32m━━━━━━━━━━━━━━━━━━━━\u001b[0m\u001b[37m\u001b[0m \u001b[1m0s\u001b[0m 38ms/step\n",
      "7\n",
      "\u001b[1m1/1\u001b[0m \u001b[32m━━━━━━━━━━━━━━━━━━━━\u001b[0m\u001b[37m\u001b[0m \u001b[1m0s\u001b[0m 36ms/step\n",
      "\u001b[1m1/1\u001b[0m \u001b[32m━━━━━━━━━━━━━━━━━━━━\u001b[0m\u001b[37m\u001b[0m \u001b[1m0s\u001b[0m 34ms/step\n",
      "1\n",
      "\u001b[1m1/1\u001b[0m \u001b[32m━━━━━━━━━━━━━━━━━━━━\u001b[0m\u001b[37m\u001b[0m \u001b[1m0s\u001b[0m 30ms/step\n",
      "\u001b[1m1/1\u001b[0m \u001b[32m━━━━━━━━━━━━━━━━━━━━\u001b[0m\u001b[37m\u001b[0m \u001b[1m0s\u001b[0m 29ms/step\n",
      "-\n",
      "\u001b[1m1/1\u001b[0m \u001b[32m━━━━━━━━━━━━━━━━━━━━\u001b[0m\u001b[37m\u001b[0m \u001b[1m0s\u001b[0m 28ms/step\n",
      "\u001b[1m1/1\u001b[0m \u001b[32m━━━━━━━━━━━━━━━━━━━━\u001b[0m\u001b[37m\u001b[0m \u001b[1m0s\u001b[0m 30ms/step\n",
      "3\n",
      "\u001b[1m1/1\u001b[0m \u001b[32m━━━━━━━━━━━━━━━━━━━━\u001b[0m\u001b[37m\u001b[0m \u001b[1m0s\u001b[0m 33ms/step\n",
      "\u001b[1m1/1\u001b[0m \u001b[32m━━━━━━━━━━━━━━━━━━━━\u001b[0m\u001b[37m\u001b[0m \u001b[1m0s\u001b[0m 39ms/step\n",
      "3\n",
      "\u001b[1m1/1\u001b[0m \u001b[32m━━━━━━━━━━━━━━━━━━━━\u001b[0m\u001b[37m\u001b[0m \u001b[1m0s\u001b[0m 33ms/step\n",
      "\u001b[1m1/1\u001b[0m \u001b[32m━━━━━━━━━━━━━━━━━━━━\u001b[0m\u001b[37m\u001b[0m \u001b[1m0s\u001b[0m 36ms/step\n",
      "0\n",
      "871-330\n",
      "Kết quả: 541\n"
     ]
    }
   ],
   "source": [
    "s=''\n",
    "for i in range(len(train_data)):\n",
    "    train_data[i]=np.array(train_data[i])\n",
    "    train_data[i]=train_data[i].reshape(1,45,45,1)\n",
    "    result = np.argmax(loaded_model.predict(train_data[i]), axis=-1)\n",
    "    result=np.argmax(loaded_model.predict(train_data[i]), axis=-1)\n",
    "    if(result[0]==10):\n",
    "        print(\"-\")\n",
    "        s=s+'-'\n",
    "    if(result[0]==11):\n",
    "        print(\"+\")\n",
    "        s=s+'+'\n",
    "    if(result[0]==12):\n",
    "        print(\"*\")\n",
    "        s=s+'*'\n",
    "    if(result[0]==0):\n",
    "        print(\"0\")\n",
    "        s=s+'0'\n",
    "    if(result[0]==1):\n",
    "        print(\"1\")\n",
    "        s=s+'1'\n",
    "    if(result[0]==2):\n",
    "        print(\"2\")\n",
    "        s=s+'2'\n",
    "    if(result[0]==3):\n",
    "        print(\"3\")\n",
    "        s=s+'3'\n",
    "    if(result[0]==4):\n",
    "        print(\"4\")\n",
    "        s=s+'4'\n",
    "    if(result[0]==5):\n",
    "        print(\"5\")\n",
    "        s=s+'5'\n",
    "    if(result[0]==6):\n",
    "        print(\"6\")\n",
    "        s=s+'6'\n",
    "    if(result[0]==7):\n",
    "        print(\"7\")\n",
    "        s=s+'7'\n",
    "    if(result[0]==8):\n",
    "        print(\"8\")\n",
    "        s=s+'8'\n",
    "    if(result[0]==9):\n",
    "        print(\"9\")  \n",
    "        s=s+'9'\n",
    "\n",
    "print(s)\n",
    "try:\n",
    "    result = eval(s)  # Tính toán chuỗi biểu thức\n",
    "    print(\"Kết quả:\", result)\n",
    "except Exception as e:\n",
    "    print(\"Lỗi tính toán:\", e)\n"
   ]
  },
  {
   "cell_type": "markdown",
   "id": "d9feabd4",
   "metadata": {},
   "source": [
    "## Our Model was successfully Tested \n",
    "\n",
    "# Thank You !"
   ]
  },
  {
   "cell_type": "code",
   "execution_count": 23,
   "id": "d4cddf33",
   "metadata": {},
   "outputs": [
    {
     "name": "stdout",
     "output_type": "stream",
     "text": [
      "\u001b[1m1/1\u001b[0m \u001b[32m━━━━━━━━━━━━━━━━━━━━\u001b[0m\u001b[37m\u001b[0m \u001b[1m0s\u001b[0m 38ms/step\n",
      "Ảnh 1:\n",
      "  → 8 với xác suất 0.9997\n",
      "  → 2 với xác suất 0.0002\n",
      "  → 6 với xác suất 0.0001\n",
      "\n",
      "\u001b[1m1/1\u001b[0m \u001b[32m━━━━━━━━━━━━━━━━━━━━\u001b[0m\u001b[37m\u001b[0m \u001b[1m0s\u001b[0m 34ms/step\n",
      "Ảnh 2:\n",
      "  → 7 với xác suất 0.9742\n",
      "  → 2 với xác suất 0.0084\n",
      "  → + với xác suất 0.0076\n",
      "\n",
      "\u001b[1m1/1\u001b[0m \u001b[32m━━━━━━━━━━━━━━━━━━━━\u001b[0m\u001b[37m\u001b[0m \u001b[1m0s\u001b[0m 32ms/step\n",
      "Ảnh 3:\n",
      "  → 1 với xác suất 1.0000\n",
      "  → 9 với xác suất 0.0000\n",
      "  → + với xác suất 0.0000\n",
      "\n",
      "\u001b[1m1/1\u001b[0m \u001b[32m━━━━━━━━━━━━━━━━━━━━\u001b[0m\u001b[37m\u001b[0m \u001b[1m0s\u001b[0m 42ms/step\n",
      "Ảnh 4:\n",
      "  → - với xác suất 0.8456\n",
      "  → + với xác suất 0.1366\n",
      "  → 2 với xác suất 0.0075\n",
      "\n",
      "\u001b[1m1/1\u001b[0m \u001b[32m━━━━━━━━━━━━━━━━━━━━\u001b[0m\u001b[37m\u001b[0m \u001b[1m0s\u001b[0m 35ms/step\n",
      "Ảnh 5:\n",
      "  → 3 với xác suất 0.9131\n",
      "  → 5 với xác suất 0.0869\n",
      "  → 9 với xác suất 0.0000\n",
      "\n",
      "\u001b[1m1/1\u001b[0m \u001b[32m━━━━━━━━━━━━━━━━━━━━\u001b[0m\u001b[37m\u001b[0m \u001b[1m0s\u001b[0m 34ms/step\n",
      "Ảnh 6:\n",
      "  → 3 với xác suất 0.9842\n",
      "  → 2 với xác suất 0.0091\n",
      "  → 7 với xác suất 0.0042\n",
      "\n",
      "\u001b[1m1/1\u001b[0m \u001b[32m━━━━━━━━━━━━━━━━━━━━\u001b[0m\u001b[37m\u001b[0m \u001b[1m0s\u001b[0m 31ms/step\n",
      "Ảnh 7:\n",
      "  → 0 với xác suất 0.9699\n",
      "  → 5 với xác suất 0.0165\n",
      "  → 6 với xác suất 0.0042\n",
      "\n"
     ]
    }
   ],
   "source": [
    "labels = {\n",
    "    0: '0', 1: '1', 2: '2', 3: '3', 4: '4',\n",
    "    5: '5', 6: '6', 7: '7', 8: '8', 9: '9',\n",
    "    10: '-', 11: '+', 12: '*'\n",
    "}\n",
    "\n",
    "for i in range(len(train_data)):\n",
    "    train_data[i] = np.array(train_data[i]).reshape(1, 45, 45, 1)\n",
    "\n",
    "    # Dự đoán xác suất\n",
    "    probs = loaded_model.predict(train_data[i])[0]\n",
    "\n",
    "    # Lấy top 3 nhãn có xác suất cao nhất\n",
    "    top3_indices = probs.argsort()[-3:][::-1]  # Sắp xếp giảm dần\n",
    "    top3_labels = [(labels[idx], probs[idx]) for idx in top3_indices]\n",
    "\n",
    "    print(f\"Ảnh {i+1}:\")\n",
    "    for label, prob in top3_labels:\n",
    "        print(f\"  → {label} với xác suất {prob:.4f}\")\n",
    "    print()\n"
   ]
  }
 ],
 "metadata": {
  "kernelspec": {
   "display_name": ".venv",
   "language": "python",
   "name": "python3"
  },
  "language_info": {
   "codemirror_mode": {
    "name": "ipython",
    "version": 3
   },
   "file_extension": ".py",
   "mimetype": "text/x-python",
   "name": "python",
   "nbconvert_exporter": "python",
   "pygments_lexer": "ipython3",
   "version": "3.9.13"
  }
 },
 "nbformat": 4,
 "nbformat_minor": 5
}
